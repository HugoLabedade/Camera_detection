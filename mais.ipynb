{
 "cells": [
  {
   "cell_type": "code",
   "execution_count": 2,
   "metadata": {},
   "outputs": [
    {
     "ename": "ModuleNotFoundError",
     "evalue": "No module named 'cv2'",
     "output_type": "error",
     "traceback": [
      "\u001b[1;31m---------------------------------------------------------------------------\u001b[0m",
      "\u001b[1;31mModuleNotFoundError\u001b[0m                       Traceback (most recent call last)",
      "Cell \u001b[1;32mIn[2], line 1\u001b[0m\n\u001b[1;32m----> 1\u001b[0m \u001b[38;5;28;01mimport\u001b[39;00m \u001b[38;5;21;01mcv2\u001b[39;00m\n\u001b[0;32m      2\u001b[0m \u001b[38;5;28;01mimport\u001b[39;00m \u001b[38;5;21;01mos\u001b[39;00m\n\u001b[0;32m      4\u001b[0m image_folder \u001b[38;5;241m=\u001b[39m \u001b[38;5;124mr\u001b[39m\u001b[38;5;124m'\u001b[39m\u001b[38;5;124mC:\u001b[39m\u001b[38;5;124m\\\u001b[39m\u001b[38;5;124mUsers\u001b[39m\u001b[38;5;124m\\\u001b[39m\u001b[38;5;124mhugol\u001b[39m\u001b[38;5;124m\\\u001b[39m\u001b[38;5;124mDesktop\u001b[39m\u001b[38;5;124m\\\u001b[39m\u001b[38;5;124m2023-2024\u001b[39m\u001b[38;5;124m\\\u001b[39m\u001b[38;5;124mdeep_learning\u001b[39m\u001b[38;5;124m\\\u001b[39m\u001b[38;5;124mfil_rouge\u001b[39m\u001b[38;5;124m\\\u001b[39m\u001b[38;5;124mVisDrone2019-VID-train\u001b[39m\u001b[38;5;124m\\\u001b[39m\u001b[38;5;124msequences\u001b[39m\u001b[38;5;124m\\\u001b[39m\u001b[38;5;124muav0000126_00001_v\u001b[39m\u001b[38;5;124m'\u001b[39m\n",
      "\u001b[1;31mModuleNotFoundError\u001b[0m: No module named 'cv2'"
     ]
    }
   ],
   "source": [
    "import cv2\n",
    "import os\n",
    "\n",
    "#image_folder = r'C:\\Users\\hugol\\Desktop\\2023-2024\\deep_learning\\fil_rouge\\VisDrone2019-VID-train\\sequences\\uav0000126_00001_v'\n",
    "image_folder = r'C:\\Users\\hugol\\Desktop\\projet_fin_annee\\fil_rouge_deep_learning\\Camera_detection\\4K Road traffic video for object detection and tracking - free download now!.mp4'\n",
    "video_name = 'video.avi'\n",
    "\n",
    "images = [img for img in os.listdir(image_folder) if img.endswith(\".jpg\")]\n",
    "frame = cv2.imread(os.path.join(image_folder, images[0]))\n",
    "height, width, layers = frame.shape\n",
    "\n",
    "video = cv2.VideoWriter(video_name, 0, 24, (width,height))\n",
    "\n",
    "\n",
    "for image in images:\n",
    "    video.write(cv2.imread(os.path.join(image_folder, image)))\n",
    "\n",
    "cv2.destroyAllWindows()\n",
    "video.release()"
   ]
  },
  {
   "cell_type": "code",
   "execution_count": 144,
   "metadata": {},
   "outputs": [],
   "source": [
    "#VIDEO STATES\n",
    "\n",
    "\n",
    "import cv2\n",
    "cap = cv2.VideoCapture(r'C:\\Users\\hugol\\Desktop\\projet_fin_annee\\fil_rouge_deep_learning\\Camera_detection\\4K Road traffic video for object detection and tracking - free download now!360.mp4')\n",
    "# Object detection from Stable camera\n",
    "object_detector = cv2.createBackgroundSubtractorKNN(history=1, dist2Threshold= 100)\n",
    "while True:\n",
    "    ret, frame = cap.read()\n",
    "    #frame = cv2.cvtColor(frame, cv2.COLOR_BGR2GRAY)\n",
    "    #frame = cv2.GaussianBlur(frame,(7,7),0)\n",
    "    \n",
    "    height, width, _ = frame.shape\n",
    "\n",
    "    roi = frame[int(height/2.5): height, width-width: width]\n",
    "    \n",
    "    # 1. Object Detection\n",
    "    mask = object_detector.apply(roi)\n",
    "    _, mask = cv2.threshold(mask, 254, 255, cv2.THRESH_BINARY+cv2.THRESH_OTSU)\n",
    "    #mask = cv2.adaptiveThreshold(mask, 255, cv2.ADAPTIVE_THRESH_GAUSSIAN_C, cv2.THRESH_BINARY,11,2)\n",
    "    contours, _ = cv2.findContours(mask, cv2.RETR_EXTERNAL, cv2.CHAIN_APPROX_SIMPLE)\n",
    "    \n",
    "    for cnt in contours:\n",
    "        area = cv2.contourArea(cnt)\n",
    "        if area > 200:\n",
    "            x, y, w, h = cv2.boundingRect(cnt)\n",
    "            cv2.rectangle(roi, (x, y), (x+w, y+ h), (0, 255, 0), 3)\n",
    "\n",
    "    cv2.imshow(\"Frame\", frame)\n",
    "    cv2.imshow(\"Mask\", mask)\n",
    "\n",
    "    key = cv2.waitKey(30)\n",
    "    if key == 27:\n",
    "        break\n",
    "\n",
    "cap.release()\n",
    "cv2.destroyAllWindows()"
   ]
  },
  {
   "cell_type": "code",
   "execution_count": 147,
   "metadata": {},
   "outputs": [],
   "source": [
    "#VIDEO THAILANDE\n",
    "\n",
    "\n",
    "import cv2\n",
    "cap = cv2.VideoCapture(r'C:\\Users\\hugol\\Desktop\\projet_fin_annee\\fil_rouge_deep_learning\\Camera_detection\\Thailand traffic footage for object recognition #4.mp4')\n",
    "# Object detection from Stable camera\n",
    "object_detector = cv2.createBackgroundSubtractorKNN(history=1, dist2Threshold= 200)\n",
    "while True:\n",
    "    ret, frame = cap.read()\n",
    "    #frame = cv2.cvtColor(frame, cv2.COLOR_BGR2GRAY)\n",
    "    #frame = cv2.GaussianBlur(frame,(7,7),0)\n",
    "    \n",
    "    height, width, _ = frame.shape\n",
    "\n",
    "    roi = frame[int(height/2.5): height, width-width: width]\n",
    "    \n",
    "    # 1. Object Detection\n",
    "    mask = object_detector.apply(roi)\n",
    "    _, mask = cv2.threshold(mask, 254, 255, cv2.THRESH_BINARY)\n",
    "    #mask = cv2.adaptiveThreshold(mask, 255, cv2.ADAPTIVE_THRESH_GAUSSIAN_C, cv2.THRESH_BINARY,11,2)\n",
    "    contours, _ = cv2.findContours(mask, cv2.RETR_TREE, cv2.CHAIN_APPROX_SIMPLE)\n",
    "    \n",
    "    for cnt in contours:\n",
    "        area = cv2.contourArea(cnt)\n",
    "        if area > 200:\n",
    "            x, y, w, h = cv2.boundingRect(cnt)\n",
    "            cv2.rectangle(roi, (x, y), (x+w, y+ h), (0, 255, 0), 3)\n",
    "\n",
    "    cv2.imshow(\"Frame\", frame)\n",
    "    cv2.imshow(\"Mask\", mask)\n",
    "\n",
    "    key = cv2.waitKey(30)\n",
    "    if key == 27:\n",
    "        break\n",
    "\n",
    "cap.release()\n",
    "cv2.destroyAllWindows()"
   ]
  }
 ],
 "metadata": {
  "kernelspec": {
   "display_name": "deep_learning",
   "language": "python",
   "name": "python3"
  },
  "language_info": {
   "codemirror_mode": {
    "name": "ipython",
    "version": 3
   },
   "file_extension": ".py",
   "mimetype": "text/x-python",
   "name": "python",
   "nbconvert_exporter": "python",
   "pygments_lexer": "ipython3",
   "version": "3.12.2"
  }
 },
 "nbformat": 4,
 "nbformat_minor": 2
}
